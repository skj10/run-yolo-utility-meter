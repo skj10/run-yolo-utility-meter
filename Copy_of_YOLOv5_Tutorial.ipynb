{
  "nbformat": 4,
  "nbformat_minor": 0,
  "metadata": {
    "colab": {
      "name": "Copy of YOLOv5 Tutorial",
      "provenance": [],
      "collapsed_sections": [
        "Kbht-SqTs2cd",
        "ZKgN6L-4s6dN",
        "QW3jAta3tPxh",
        "0Rn289TTteNJ",
        "qO-bIw8LtjXF",
        "dlyvMoequM-O"
      ]
    },
    "kernelspec": {
      "name": "python3",
      "display_name": "Python 3"
    },
    "accelerator": "GPU"
  },
  "cells": [
    {
      "cell_type": "markdown",
      "metadata": {
        "id": "l24wMkXYsjzl"
      },
      "source": [
        "# Run Yolo V5"
      ]
    },
    {
      "cell_type": "markdown",
      "metadata": {
        "id": "Kbht-SqTs2cd"
      },
      "source": [
        "## Clone Git, Install Requirements"
      ]
    },
    {
      "cell_type": "code",
      "metadata": {
        "id": "wbvMlHd_QwMG"
      },
      "source": [
        "!git clone https://github.com/chia56028/Street-View-House-Numbers-Detection  # clone repo\n",
        "%cd Street-View-House-Numbers-Detection\n",
        "%pip install -r requirements.txt  # install dependencies\n",
        "\n",
        "%pip install torch==1.7.0+cu110 torchvision==0.8.1+cu110 torchaudio===0.7.0 -f https://download.pytorch.org/whl/torch_stable.html\n",
        "\n",
        "import torch\n",
        "from IPython.display import Image, clear_output  # to display images\n",
        "\n",
        "clear_output()\n",
        "print(f\"Setup complete. Using torch {torch.__version__} ({torch.cuda.get_device_properties(0).name if torch.cuda.is_available() else 'CPU'})\")"
      ],
      "execution_count": null,
      "outputs": []
    },
    {
      "cell_type": "markdown",
      "metadata": {
        "id": "ZKgN6L-4s6dN"
      },
      "source": [
        "## Download SVHN Dataset, Prepare Data\n",
        "This is only necessary if you are training the model from scratch"
      ]
    },
    {
      "cell_type": "code",
      "metadata": {
        "id": "WQPtK1QYVaD_"
      },
      "source": [
        "%cd //content/Street-View-House-Numbers-Detection/data/svhn\n",
        "\n",
        "torch.hub.download_url_to_file('http://ufldl.stanford.edu/housenumbers/train.tar.gz', 'train.tar.gz')\n",
        "torch.hub.download_url_to_file('http://ufldl.stanford.edu/housenumbers/test.tar.gz', 'test.tar.gz')\n",
        "\n",
        "!tar -xvzf train.tar.gz -C .\n",
        "!tar -xvzf test.tar.gz -C .\n",
        "\n",
        "%cp -R test valid"
      ],
      "execution_count": null,
      "outputs": []
    },
    {
      "cell_type": "code",
      "metadata": {
        "id": "jsD-XTKwwrE2"
      },
      "source": [
        "%cd //content/Street-View-House-Numbers-Detection/data/svhn\n",
        "\n",
        "!git clone https://github.com/skj10/utility-meter  # clone repo\n",
        "\n",
        "%cp utility-meter/mat_to_yolo_arg_parse.py ./mat_to_yolo_arg_parse.py\n",
        "%cp utility-meter/trim_data.py ./trim_data.py\n",
        "\n",
        "!python trim_data.py --number 5000 --folder valid\n",
        "\n",
        "!python mat_to_yolo_arg_parse.py --number 33402 --folder train\n",
        "!python mat_to_yolo_arg_parse.py --number 13068 --folder test\n",
        "!python mat_to_yolo_arg_parse.py --number 5000 --folder valid"
      ],
      "execution_count": null,
      "outputs": []
    },
    {
      "cell_type": "markdown",
      "metadata": {
        "id": "QW3jAta3tPxh"
      },
      "source": [
        "## Train Model or Unzip Weights\n",
        "**Training a model from scratch:** Mark condition in if...else statement as True. \n",
        "\n",
        "**Already moved runs.zip file into main directory:** Mark\n",
        "if...else condition as False."
      ]
    },
    {
      "cell_type": "code",
      "metadata": {
        "id": "bToJloHJvc6N"
      },
      "source": [
        "%cd //content/Street-View-House-Numbers-Detection\n",
        "if (False):\n",
        "  !python train.py --img 320 --batch 16 --epochs 50 --data svhn.yaml --weights yolov5x.pt\n",
        "  !zip -r runs.zip runs\n",
        "else:\n",
        "  !unzip runs.zip"
      ],
      "execution_count": null,
      "outputs": []
    },
    {
      "cell_type": "markdown",
      "metadata": {
        "id": "qO-bIw8LtjXF"
      },
      "source": [
        "## Unzip Utility Meter Images, Run Inference"
      ]
    },
    {
      "cell_type": "code",
      "metadata": {
        "id": "NF2byH3wCQJG"
      },
      "source": [
        "%cd //content/Street-View-House-Numbers-Detection/data/svhn\n",
        "!unzip testMeters.zip"
      ],
      "execution_count": null,
      "outputs": []
    },
    {
      "cell_type": "code",
      "metadata": {
        "id": "22Y8jwy0OmBG"
      },
      "source": [
        "%cd //content/Street-View-House-Numbers-Detection\n",
        "!python detect.py --source data/svhn/testMeters/ --weights runs/train/exp/weights/best.pt --conf 0.50 --save-txt --save-conf"
      ],
      "execution_count": null,
      "outputs": []
    },
    {
      "cell_type": "markdown",
      "metadata": {
        "id": "dlyvMoequM-O"
      },
      "source": [
        "## Visualize"
      ]
    },
    {
      "cell_type": "code",
      "metadata": {
        "id": "-XSO5S57uPqe"
      },
      "source": [
        "%cd //content/Street-View-House-Numbers-Detection\n",
        "\n",
        "Image(filename='runs/train/exp/train_batch0.jpg', width=800)  # train batch 0 mosaics and labels\n",
        "Image(filename='runs/train/exp/test_batch0_labels.jpg', width=800)  # test batch 0 labels\n",
        "Image(filename='runs/train/exp/test_batch0_pred.jpg', width=800)  # test batch 0 predictions\n",
        "\n",
        "from utils.plots import plot_results \n",
        "plot_results(save_dir='runs/train/exp')  # plot all results*.txt as results.png\n",
        "Image(filename='runs/train/exp/results.png', width=800)"
      ],
      "execution_count": null,
      "outputs": []
    }
  ]
}